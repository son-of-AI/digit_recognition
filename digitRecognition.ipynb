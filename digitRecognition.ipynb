{
 "cells": [
  {
   "cell_type": "markdown",
   "metadata": {},
   "source": [
    "# Creating a digit recognition model\n"
   ]
  },
  {
   "cell_type": "markdown",
   "metadata": {},
   "source": [
    "we will design a predictive model capable of accurately predicting the number in the image"
   ]
  },
  {
   "cell_type": "markdown",
   "metadata": {},
   "source": [
    "# steps to make our model :"
   ]
  },
  {
   "cell_type": "markdown",
   "metadata": {},
   "source": [
    "   1. We will at first clean our dataset\n",
    "   2. Split it into training and testing data\n",
    "   3. Train  different classifiers on the data & compare\n",
    "   4. Use the best Classifer to predict the number\n",
    "\n"
   ]
  },
  {
   "cell_type": "markdown",
   "metadata": {},
   "source": [
    "# Importing libraries"
   ]
  },
  {
   "cell_type": "code",
   "execution_count": 2,
   "metadata": {
    "collapsed": true
   },
   "outputs": [],
   "source": [
    "#we will be using the basic numpy -to convert data into matrix form,pylot to disply the image and pandas to read the data\n",
    "import numpy as np\n",
    "import matplotlib.pyplot as plt\n",
    "import pandas as pd\n",
    "from sklearn.tree import DecisionTreeClassifier"
   ]
  },
  {
   "cell_type": "code",
   "execution_count": 6,
   "metadata": {},
   "outputs": [
    {
     "name": "stdout",
     "output_type": "stream",
     "text": [
      "[6]\n"
     ]
    },
    {
     "data": {
      "image/png": "[encoded data removed]",
      "text/plain": [
       "<matplotlib.figure.Figure at 0x1db1b48e9e8>"
      ]
     },
     "metadata": {},
     "output_type": "display_data"
    }
   ],
   "source": [
    "#we convert the data into matrix\n",
    "data =pd.read_csv(\"train.csv\").as_matrix()\n",
    "\n",
    "#we define a classifier\n",
    "clf=DecisionTreeClassifier()\n",
    "#we now seperate the training data using the first 21000 tuples\n",
    "xtrain=data[0:21000,1:]#we dont want the 1\n",
    "train_label=data[0:21000,0]#defining the labels\n",
    "#we now fit the training data with labels\n",
    "clf.fit(xtrain,train_label)\n",
    "\n",
    "#define the testing data\n",
    "xtest=data[21000:,1:]\n",
    "actual_label=data[21000:,0]\n",
    "#we define a sample input\n",
    "d=xtest[25]\n",
    "#convert it to a 28x28 matrix\n",
    "d.shape=(28,28)\n",
    "plt.imshow(d,cmap='gray')\n",
    "#prints the prediction\n",
    "print(clf.predict([xtest[25]]))\n",
    "#shows the actuall\n",
    "plt.show()\n",
    "\n",
    "    \n",
    "    "
   ]
  },
  {
   "cell_type": "code",
   "execution_count": 4,
   "metadata": {},
   "outputs": [
    {
     "name": "stdout",
     "output_type": "stream",
     "text": [
      "accuracy= 83.55714285714285\n"
     ]
    }
   ],
   "source": [
    "#we will now predict for the whole dataset\n",
    "p=clf.predict(xtest)\n",
    "#funtion to caculate the accuracy\n",
    "count=0;\n",
    "for i in range (0,21000):\n",
    "    count+=1 if p[i]==actual_label[i]else 0\n",
    "    \n",
    "print(\"accuracy=\",(count/21000)*100)"
   ]
  },
  {
   "cell_type": "markdown",
   "metadata": {},
   "source": [
    "our model got an accuracy of almost 84% using decision trees, it could have been better if we use support vector machines or k-nearest neighbour's. the state of the art is achieved by nueral networks with 99.7% accuracy"
   ]
  },
  {
   "cell_type": "code",
   "execution_count": null,
   "metadata": {
    "collapsed": true
   },
   "outputs": [],
   "source": []
  }
 ],
 "metadata": {
  "kernelspec": {
   "display_name": "Python 3",
   "language": "python",
   "name": "python3"
  },
  "language_info": {
   "codemirror_mode": {
    "name": "ipython",
    "version": 3
   },
   "file_extension": ".py",
   "mimetype": "text/x-python",
   "name": "python",
   "nbconvert_exporter": "python",
   "pygments_lexer": "ipython3",
   "version": "3.6.3"
  }
 },
 "nbformat": 4,
 "nbformat_minor": 2
}
